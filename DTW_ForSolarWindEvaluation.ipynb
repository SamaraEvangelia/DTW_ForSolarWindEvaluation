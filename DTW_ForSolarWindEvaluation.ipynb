{
 "cells": [
  {
   "cell_type": "code",
   "execution_count": null,
   "metadata": {},
   "outputs": [],
   "source": [
    "import numpy as np\n",
    "import matplotlib.pyplot as plt\n",
    "%matplotlib inline"
   ]
  },
  {
   "cell_type": "code",
   "execution_count": null,
   "metadata": {},
   "outputs": [],
   "source": [
    "series1=[1, 4, 7, 8, 10, 9, 6, 5, 2, 3, 3]\n",
    "series2=[1, 1, 4, 7, 8, 10, 9, 6, 5, 2, 3]\n",
    "\n",
    "cost = np.zeros((len(series1), len(series2))) \n",
    "DTW = np.ones((len(series1)+1, len(series2)+1)) \n",
    "DTW = DTW*np.infty \n",
    "\n",
    "# Time window\n",
    "w = np.max([300, abs(len(series1)-len(series2))]) \n",
    " \n",
    "DTW[0,0] = cost[0,0] \n",
    "        \n",
    "for i in range(1, len(series1)+1):\n",
    "    for j in range(np.max([1, i-w]), np.min([len(series2)+1, i+w])):   \n",
    "        cost[i-1,j-1] = abs(series2[j-1]-series1[i-1]) \n",
    "        DTW[i,j] = min(DTW[i-1, j-1], DTW[i-1, j], DTW[i, j-1]) + cost[i-1,j-1] \n",
    "        \n",
    "DTW = DTW[1:,1:] \n",
    "        \n",
    "print(\"The DTW cost is \", DTW[len(series1)-1, len(series2)-1])\n",
    "print(DTW)"
   ]
  },
  {
   "cell_type": "code",
   "execution_count": null,
   "metadata": {},
   "outputs": [],
   "source": [
    "def distance_distance_plot(DTW):\n",
    "    im = plt.imshow(DTW, interpolation='nearest', cmap='Greens') \n",
    "    plt.xlabel(\"series 2\", fontsize=20)\n",
    "    plt.ylabel(\"series 1\", fontsize=20)\n",
    "    plt.grid()\n",
    "    plt.colorbar();\n",
    "distance_distance_plot(DTW)\n",
    "\n",
    "path = [[len(series2)-1, len(series1)-1]]\n",
    "i = len(series1)-1\n",
    "j = len(series2)-1\n",
    "while i>0 or j>0: \n",
    "    if i==0:     \n",
    "        j = j - 1\n",
    "    elif j==0:\n",
    "        i = i - 1\n",
    "    else:\n",
    "        if DTW[i-1, j] == min(DTW[i-1, j-1], DTW[i-1, j], DTW[i, j-1]):\n",
    "            i = i - 1\n",
    "        elif DTW[i, j-1] == min(DTW[i-1, j-1], DTW[i-1, j], DTW[i, j-1]):\n",
    "            j = j-1\n",
    "        else:\n",
    "            i = i - 1\n",
    "            j = j - 1\n",
    "    path.append([j, i])\n",
    "\n",
    "\n",
    "path_x = [point[0] for point in path]\n",
    "path_y = [point[1] for point in path]\n",
    "distance_distance_plot(DTW)\n",
    "plt.plot(path_x, path_y, linewidth=5.0);\n",
    "\n",
    "def path_DTW(series2, series1, DTW, cost):\n",
    "    path = [[len(series2)-1, len(series1)-1]]\n",
    "    DTW_new = 0\n",
    "    i = len(series1)-1\n",
    "    j = len(series2)-1\n",
    "    while i>0 or j>0:  \n",
    "        if i==0:     \n",
    "            j = j - 1\n",
    "        elif j==0:\n",
    "            i = i - 1\n",
    "        else:\n",
    "            if DTW[i-1, j] == min(DTW[i-1, j-1], DTW[i-1, j], DTW[i, j-1]):\n",
    "                i = i - 1\n",
    "            elif DTW[i, j-1] == min(DTW[i-1, j-1], DTW[i-1, j], DTW[i, j-1]):\n",
    "                j = j-1\n",
    "            else:\n",
    "                i = i - 1\n",
    "                j = j - 1\n",
    "        path.append([j, i])\n",
    "    for [series1, series2] in path:\n",
    "        DTW_new = DTW_new + cost[series2, series1]\n",
    "    return path, DTW_new\n",
    "\n",
    "\n",
    "plt.figure(figsize=(15,5))\n",
    "plt.plot(series1, 'b-', label = 'series 1', linewidth=7)\n",
    "plt.plot(series2, 'r-' ,label='series 2', linewidth=3)\n",
    "\n",
    "plt.legend(fontsize=22);\n",
    "paths = path_DTW(series2, series1, DTW, cost)[0]\n",
    "for [map_x, map_y] in paths:\n",
    "    plt.plot([map_x, map_y], [series2[map_x], series1[map_y]], 'g', linewidth=3)\n"
   ]
  },
  {
   "cell_type": "markdown",
   "metadata": {},
   "source": [
    "Print the path"
   ]
  },
  {
   "cell_type": "code",
   "execution_count": null,
   "metadata": {},
   "outputs": [],
   "source": [
    "print(path)"
   ]
  },
  {
   "cell_type": "code",
   "execution_count": null,
   "metadata": {},
   "outputs": [],
   "source": [
    "for [map_x, map_y] in paths:\n",
    "    print(map_x, series2[map_x], \":\", map_y, series1[map_y]) "
   ]
  },
  {
   "cell_type": "code",
   "execution_count": null,
   "metadata": {},
   "outputs": [],
   "source": []
  }
 ],
 "metadata": {
  "kernelspec": {
   "display_name": "NEWSUNPY",
   "language": "python",
   "name": "newsunpy"
  },
  "language_info": {
   "codemirror_mode": {
    "name": "ipython",
    "version": 3
   },
   "file_extension": ".py",
   "mimetype": "text/x-python",
   "name": "python",
   "nbconvert_exporter": "python",
   "pygments_lexer": "ipython3",
   "version": "3.7.3"
  }
 },
 "nbformat": 4,
 "nbformat_minor": 4
}
